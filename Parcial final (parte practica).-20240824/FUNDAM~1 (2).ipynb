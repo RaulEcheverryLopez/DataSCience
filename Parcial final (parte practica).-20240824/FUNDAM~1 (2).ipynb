{
  "cells": [
    {
      "cell_type": "markdown",
      "metadata": {
        "id": "jsyV5budxUre"
      },
      "source": [
        "# Fundamentos de analítica 2 (clase 4)\n",
        "\n",
        "## Diego Fernando Agudelo\n",
        "## Universidad ICESI\n",
        "## diegoagudelo30@gmail.com\\"
      ]
    },
    {
      "cell_type": "markdown",
      "metadata": {
        "id": "VzcABaPQxaEH"
      },
      "source": [
        "## **1. Carga de paquetes**"
      ]
    },
    {
      "cell_type": "code",
      "execution_count": 41,
      "metadata": {},
      "outputs": [],
      "source": [
        "#!pip install fastai wwf bayesian-optimization -q --upgrade"
      ]
    },
    {
      "cell_type": "code",
      "execution_count": 42,
      "metadata": {
        "colab": {
          "base_uri": "https://localhost:8080/"
        },
        "id": "6zSQriFDxOPo",
        "outputId": "affdc2a0-c72d-48c7-99df-b01eeef709ed"
      },
      "outputs": [],
      "source": [
        "import numpy as np\n",
        "import pandas as pd # Operaciones con dataframes\n",
        "from matplotlib import pyplot as plt # gráficos\n",
        "from statsmodels.tsa.seasonal import seasonal_decompose # descomposición de series\n",
        "from statsmodels.tsa.holtwinters import SimpleExpSmoothing  # Holwinters simple\n",
        "from statsmodels.tsa.holtwinters import ExponentialSmoothing # Holwinters doble y tripe\n",
        "from statsmodels.tsa.exponential_smoothing.ets import ETSModel\n",
        "from sklearn.metrics import mean_squared_error\n",
        "#!pip install fastai wwf bayesian-optimization -q --upgrade\n",
        "from bayes_opt import BayesianOptimization"
      ]
    },
    {
      "cell_type": "markdown",
      "metadata": {
        "id": "douz2KVtxrQW"
      },
      "source": [
        "## **2. Carga de datos**\n",
        "\n",
        "Nuestra primera tarea será leer el archivo de Excel. Para eso podemos emplear el paquete Pandas. Carguemos los datos en un objeto que denominaremos data."
      ]
    },
    {
      "cell_type": "code",
      "execution_count": 43,
      "metadata": {},
      "outputs": [
        {
          "data": {
            "text/html": [
              "<div>\n",
              "<style scoped>\n",
              "    .dataframe tbody tr th:only-of-type {\n",
              "        vertical-align: middle;\n",
              "    }\n",
              "\n",
              "    .dataframe tbody tr th {\n",
              "        vertical-align: top;\n",
              "    }\n",
              "\n",
              "    .dataframe thead th {\n",
              "        text-align: right;\n",
              "    }\n",
              "</style>\n",
              "<table border=\"1\" class=\"dataframe\">\n",
              "  <thead>\n",
              "    <tr style=\"text-align: right;\">\n",
              "      <th></th>\n",
              "      <th>TD_13ciudades</th>\n",
              "      <th>Ocupados</th>\n",
              "      <th>Desocupados</th>\n",
              "      <th>Inactivos</th>\n",
              "    </tr>\n",
              "    <tr>\n",
              "      <th>mes</th>\n",
              "      <th></th>\n",
              "      <th></th>\n",
              "      <th></th>\n",
              "      <th></th>\n",
              "    </tr>\n",
              "  </thead>\n",
              "  <tbody>\n",
              "    <tr>\n",
              "      <th>2001-01-01</th>\n",
              "      <td>20.946380</td>\n",
              "      <td>6923.604</td>\n",
              "      <td>1834.507</td>\n",
              "      <td>4600.718</td>\n",
              "    </tr>\n",
              "    <tr>\n",
              "      <th>2001-02-01</th>\n",
              "      <td>19.894213</td>\n",
              "      <td>7037.746</td>\n",
              "      <td>1747.820</td>\n",
              "      <td>4596.805</td>\n",
              "    </tr>\n",
              "    <tr>\n",
              "      <th>2001-03-01</th>\n",
              "      <td>19.221565</td>\n",
              "      <td>6945.973</td>\n",
              "      <td>1652.823</td>\n",
              "      <td>4807.120</td>\n",
              "    </tr>\n",
              "    <tr>\n",
              "      <th>2001-04-01</th>\n",
              "      <td>17.888575</td>\n",
              "      <td>6973.079</td>\n",
              "      <td>1519.137</td>\n",
              "      <td>4937.280</td>\n",
              "    </tr>\n",
              "    <tr>\n",
              "      <th>2001-05-01</th>\n",
              "      <td>17.945654</td>\n",
              "      <td>6994.462</td>\n",
              "      <td>1529.720</td>\n",
              "      <td>4928.911</td>\n",
              "    </tr>\n",
              "  </tbody>\n",
              "</table>\n",
              "</div>"
            ],
            "text/plain": [
              "            TD_13ciudades  Ocupados  Desocupados  Inactivos\n",
              "mes                                                        \n",
              "2001-01-01      20.946380  6923.604     1834.507   4600.718\n",
              "2001-02-01      19.894213  7037.746     1747.820   4596.805\n",
              "2001-03-01      19.221565  6945.973     1652.823   4807.120\n",
              "2001-04-01      17.888575  6973.079     1519.137   4937.280\n",
              "2001-05-01      17.945654  6994.462     1529.720   4928.911"
            ]
          },
          "execution_count": 43,
          "metadata": {},
          "output_type": "execute_result"
        }
      ],
      "source": [
        "url = 'https://raw.githubusercontent.com/RaulEcheverryLopez/DataSCience/a01eb0d8681f77f0f528da9b03e7bcfd4239cb2a/Parcial%20final%20(parte%20practica).-20240824/datosEmpleo.xlsx'\n",
        "data = pd.read_excel(url, index_col='mes', parse_dates=True)\n",
        "data.head()"
      ]
    },
    {
      "cell_type": "code",
      "execution_count": 44,
      "metadata": {
        "colab": {
          "base_uri": "https://localhost:8080/",
          "height": 237
        },
        "id": "MJfIWqSixts6",
        "outputId": "242b9c1e-2567-49b0-bdaf-7c9943bd576a"
      },
      "outputs": [],
      "source": [
        "#data = pd.read_excel(r'https://github.com/RaulEcheverryLopez/DataSCience/blob/a01eb0d8681f77f0f528da9b03e7bcfd4239cb2a/Parcial%20final%20(parte%20practica).-20240824/datosEmpleo.xlsx', index_col='mes', parse_dates=True)\n",
        "#data.head()"
      ]
    },
    {
      "cell_type": "code",
      "execution_count": 45,
      "metadata": {
        "colab": {
          "base_uri": "https://localhost:8080/",
          "height": 313
        },
        "id": "8pDh3GSWySGN",
        "outputId": "b33af0b3-7c54-4708-de70-1058ef38cbd6"
      },
      "outputs": [
        {
          "name": "stdout",
          "output_type": "stream",
          "text": [
            "(220, 4)\n"
          ]
        },
        {
          "data": {
            "image/png": "[encoded data removed]",
            "text/plain": [
              "<Figure size 640x480 with 1 Axes>"
            ]
          },
          "metadata": {},
          "output_type": "display_data"
        }
      ],
      "source": [
        "# imprimiendo el tamano del dataframe\n",
        "print(data.shape)\n",
        "\n",
        "# Graficando los datos\n",
        "plt.title(\"Tasa de desempleo mensual (13 ciudades)\")\n",
        "plt.xlabel(\"Mes\")\n",
        "plt.ylabel(\"Ocupados\")\n",
        "plt.plot(data[[\"Ocupados\"]])\n",
        "plt.grid()\n",
        "plt.show()"
      ]
    },
    {
      "cell_type": "code",
      "execution_count": 46,
      "metadata": {
        "colab": {
          "base_uri": "https://localhost:8080/",
          "height": 374
        },
        "id": "p_PJMQkEyZ5p",
        "outputId": "f1061862-7a94-4b02-b362-4e873686efdc"
      },
      "outputs": [
        {
          "data": {
            "image/png": "[encoded data removed]",
            "text/plain": [
              "<Figure size 1200x600 with 1 Axes>"
            ]
          },
          "metadata": {},
          "output_type": "display_data"
        }
      ],
      "source": [
        "train_len = 208\n",
        "train_o = data[[\"Ocupados\"]][:train_len]\n",
        "test_o = data[[\"Ocupados\"]][train_len:]\n",
        "\n",
        "fig = plt.figure(figsize=(12, 6))\n",
        "plt.plot(train_o,label=\"Datos Entrenamiento\")\n",
        "plt.plot(test_o,label=\"Datos de Prueba\")\n",
        "plt.legend()\n",
        "plt.show()"
      ]
    },
    {
      "cell_type": "markdown",
      "metadata": {
        "id": "KEhAlk_oyoz5"
      },
      "source": [
        "## **3. Optimización Bayesiana**"
      ]
    },
    {
      "cell_type": "code",
      "execution_count": 47,
      "metadata": {},
      "outputs": [],
      "source": [
        "error=0.6\n",
        "trend=0.3\n",
        "seasonal=1.7\n",
        "alpha=0.01\n",
        "beta=0.002\n",
        "gamma=0.6"
      ]
    },
    {
      "cell_type": "code",
      "execution_count": 48,
      "metadata": {},
      "outputs": [
        {
          "name": "stdout",
          "output_type": "stream",
          "text": [
            "0.6 0.3 1.7\n",
            "0.01 0.002 0.6\n"
          ]
        }
      ],
      "source": [
        "print(error,trend,seasonal)\n",
        "print(alpha,beta,gamma)\n",
        "error1 = [\"add\",\"mul\"]\n",
        "trend1 = [\"add\",\"mul\",None]\n",
        "seasonal1 = [\"add\",\"mul\",None]"
      ]
    },
    {
      "cell_type": "code",
      "execution_count": 49,
      "metadata": {},
      "outputs": [
        {
          "data": {
            "text/plain": [
              "{'smoothing_level': 0.01, 'smoothing_trend': 0.002, 'smoothing_seasonal': 0.6}"
            ]
          },
          "execution_count": 49,
          "metadata": {},
          "output_type": "execute_result"
        }
      ],
      "source": [
        "params = {'smoothing_level': alpha,'smoothing_trend': beta,'smoothing_seasonal':gamma}\n",
        "params"
      ]
    },
    {
      "cell_type": "code",
      "execution_count": 52,
      "metadata": {},
      "outputs": [
        {
          "name": "stdout",
          "output_type": "stream",
          "text": [
            "0.6 0.3 1.7 0.01 0.002 0.6\n",
            " target es: 471.9474465721309,Eror test: mul,Trend test: add,Seasonal test: None,Alpha model: 0.01,Beta model: 0.002, Gamma model: 0.6\n"
          ]
        },
        {
          "name": "stderr",
          "output_type": "stream",
          "text": [
            "c:\\Users\\Lenovo\\.conda\\envs\\ClasesBase\\lib\\site-packages\\statsmodels\\tsa\\base\\tsa_model.py:473: ValueWarning: No frequency information was provided, so inferred frequency MS will be used.\n",
            "  self._init_dates(dates, freq)\n"
          ]
        }
      ],
      "source": [
        "print(error,trend,seasonal,alpha,beta,gamma)\n",
        "error1 = [\"add\",\"mul\"]\n",
        "trend1 = [\"add\",\"mul\",None]\n",
        "seasonal1 = [\"add\",\"mul\",None]\n",
        "\n",
        "model = ETSModel(endog=train_o[\"Ocupados\"],error=error1[round(error)],trend=trend1[round(trend)],seasonal=seasonal1[round(seasonal)])\n",
        "\n",
        "params = {'smoothing_level': alpha,'smoothing_trend': beta,'smoothing_seasonal':gamma}\n",
        "\n",
        "if trend1[round(trend)] == None:\n",
        "   params.pop('smoothing_trend')\n",
        "if seasonal1[round(seasonal)] == None:\n",
        "   params.pop('smoothing_seasonal')\n",
        "\n",
        "model_result = model.fit_constrained(params)\n",
        "\n",
        "point_forecast=model_result.forecast(12)\n",
        "rmse = np.sqrt(mean_squared_error(test_o[\"Ocupados\"],point_forecast ))\n",
        "\n",
        "print(\" target es: {},Eror test: {},Trend test: {},Seasonal test: {},Alpha model: {},Beta model: {}, Gamma model: {}\".\n",
        "format(rmse,error1[round(error)],trend1[round(trend)],seasonal1[round(seasonal)],alpha,beta,gamma))\n"
      ]
    },
    {
      "cell_type": "code",
      "execution_count": 53,
      "metadata": {},
      "outputs": [],
      "source": [
        "#params"
      ]
    },
    {
      "cell_type": "code",
      "execution_count": 54,
      "metadata": {},
      "outputs": [],
      "source": [
        "pbounds = {'error':  (0,1),'trend':(0,2) , 'seasonal': (0,2), 'alpha':(0.01,0.99) , \"beta\" :(0.01,0.99),\"gamma\" :(0.01,0.99) }"
      ]
    },
    {
      "cell_type": "code",
      "execution_count": 55,
      "metadata": {},
      "outputs": [
        {
          "ename": "NameError",
          "evalue": "name 'train_and_evaluate_RMSE' is not defined",
          "output_type": "error",
          "traceback": [
            "\u001b[1;31m---------------------------------------------------------------------------\u001b[0m",
            "\u001b[1;31mNameError\u001b[0m                                 Traceback (most recent call last)",
            "Cell \u001b[1;32mIn[55], line 2\u001b[0m\n\u001b[0;32m      1\u001b[0m optimizer \u001b[38;5;241m=\u001b[39m BayesianOptimization(\n\u001b[1;32m----> 2\u001b[0m     f\u001b[38;5;241m=\u001b[39m\u001b[43mtrain_and_evaluate_RMSE\u001b[49m,\n\u001b[0;32m      3\u001b[0m     pbounds\u001b[38;5;241m=\u001b[39mpbounds,\n\u001b[0;32m      4\u001b[0m     random_state\u001b[38;5;241m=\u001b[39m\u001b[38;5;241m1\u001b[39m,\n\u001b[0;32m      5\u001b[0m     verbose\u001b[38;5;241m=\u001b[39m\u001b[38;5;241m2\u001b[39m\n\u001b[0;32m      6\u001b[0m )\n",
            "\u001b[1;31mNameError\u001b[0m: name 'train_and_evaluate_RMSE' is not defined"
          ]
        }
      ],
      "source": [
        "optimizer = BayesianOptimization(\n",
        "    f=train_and_evaluate_RMSE,\n",
        "    pbounds=pbounds,\n",
        "    random_state=1,\n",
        "    verbose=2\n",
        ")"
      ]
    },
    {
      "cell_type": "code",
      "execution_count": null,
      "metadata": {},
      "outputs": [
        {
          "ename": "NameError",
          "evalue": "name 'optimizer' is not defined",
          "output_type": "error",
          "traceback": [
            "\u001b[1;31m---------------------------------------------------------------------------\u001b[0m",
            "\u001b[1;31mNameError\u001b[0m                                 Traceback (most recent call last)",
            "Cell \u001b[1;32mIn[14], line 3\u001b[0m\n\u001b[0;32m      1\u001b[0m \u001b[38;5;28;01mimport\u001b[39;00m \u001b[38;5;21;01mwarnings\u001b[39;00m\n\u001b[0;32m      2\u001b[0m warnings\u001b[38;5;241m.\u001b[39mfilterwarnings(\u001b[38;5;124m\"\u001b[39m\u001b[38;5;124mignore\u001b[39m\u001b[38;5;124m\"\u001b[39m)\n\u001b[1;32m----> 3\u001b[0m \u001b[43moptimizer\u001b[49m\u001b[38;5;241m.\u001b[39mmaximize(init_points\u001b[38;5;241m=\u001b[39m\u001b[38;5;241m3\u001b[39m, n_iter\u001b[38;5;241m=\u001b[39m\u001b[38;5;241m100\u001b[39m)\n",
            "\u001b[1;31mNameError\u001b[0m: name 'optimizer' is not defined"
          ]
        }
      ],
      "source": [
        "import warnings\n",
        "warnings.filterwarnings(\"ignore\")\n",
        "optimizer.maximize(init_points=3, n_iter=100)"
      ]
    },
    {
      "cell_type": "code",
      "execution_count": null,
      "metadata": {},
      "outputs": [],
      "source": [
        "optimizer.max"
      ]
    },
    {
      "cell_type": "code",
      "execution_count": null,
      "metadata": {},
      "outputs": [],
      "source": []
    },
    {
      "cell_type": "code",
      "execution_count": 56,
      "metadata": {
        "id": "8GG8NYwoyxaH"
      },
      "outputs": [],
      "source": [
        "def train_and_evaluate_RMSE(error,trend,seasonal,alpha,beta,gamma):\n",
        "    \"\"\"Function we want to maximize (Black box)\n",
        "\n",
        "    It first trains a model with the training set using the received hyper\n",
        "    parameterts, and then evaluatesand returns the Min RMSE over the test set.\n",
        "    \"\"\"\n",
        "\n",
        "    alpha = round(alpha,2)\n",
        "    beta  = round(beta,2)\n",
        "    gamma = round(gamma,2)\n",
        "\n",
        "    print(error,trend,seasonal)\n",
        "    print(alpha,beta,gamma)\n",
        "    error1 = [\"add\",\"mul\"]\n",
        "    trend1 = [\"add\",\"mul\",None]\n",
        "    seasonal1 = [\"add\",\"mul\",None]\n",
        "\n",
        "    model = ETSModel(endog=train_o[\"Ocupados\"],error=error1[round(error)],trend=trend1[round(trend)],seasonal=seasonal1[round(seasonal)])\n",
        "\n",
        "    params = {'smoothing_level': alpha,'smoothing_trend': beta,'smoothing_seasonal':gamma}\n",
        "\n",
        "    if trend1[round(trend)] == None:\n",
        "      params.pop('smoothing_trend')\n",
        "    if seasonal1[round(seasonal)] == None:\n",
        "      params.pop('smoothing_seasonal')\n",
        "\n",
        "    model_result = model.fit_constrained(params)\n",
        "\n",
        "    point_forecast=model_result.forecast(12)\n",
        "    rmse = np.sqrt(mean_squared_error(test_o[\"Ocupados\"],point_forecast ))\n",
        "\n",
        "    print(\" target es: {},Eror test: {},Trend test: {},Seasonal test: {},Alpha model: {},Beta model: {}, Gamma model: {}\".\n",
        "          format(rmse,error1[round(error)],trend1[round(trend)],seasonal1[round(seasonal)],alpha,beta,gamma))\n",
        "\n",
        "    return -rmse"
      ]
    },
    {
      "cell_type": "code",
      "execution_count": 57,
      "metadata": {
        "id": "hm5IeaWP0YSG"
      },
      "outputs": [],
      "source": [
        "pbounds = {'error':  (0,1),'trend':(0,2) , 'seasonal': (0,2), 'alpha':(0.01,0.99) , \"beta\" :(0.01,0.99),\"gamma\" :(0.01,0.99) }"
      ]
    },
    {
      "cell_type": "code",
      "execution_count": 58,
      "metadata": {
        "id": "vc_8LzGG3dMp"
      },
      "outputs": [],
      "source": [
        "optimizer = BayesianOptimization(\n",
        "    f=train_and_evaluate_RMSE,\n",
        "    pbounds=pbounds,\n",
        "    random_state=1,\n",
        "    verbose=2\n",
        ")"
      ]
    },
    {
      "cell_type": "code",
      "execution_count": 59,
      "metadata": {
        "colab": {
          "base_uri": "https://localhost:8080/"
        },
        "id": "HttDXHV73iGp",
        "outputId": "028c4243-fb89-47d9-c434-324f7171c1c2"
      },
      "outputs": [
        {
          "name": "stdout",
          "output_type": "stream",
          "text": [
            "|   iter    |  target   |   alpha   |   beta    |   error   |   gamma   | seasonal  |   trend   |\n",
            "-------------------------------------------------------------------------------------------------\n",
            "0.00011437481734488664 0.1846771895375956 0.2935117816342261\n",
            "0.42 0.72 0.31\n",
            " target es: 939.7695151856966,Eror test: add,Trend test: add,Seasonal test: add,Alpha model: 0.42,Beta model: 0.72, Gamma model: 0.31\n",
            "| \u001b[39m1        \u001b[39m | \u001b[39m-939.8   \u001b[39m | \u001b[39m0.4187   \u001b[39m | \u001b[39m0.7159   \u001b[39m | \u001b[39m0.0001144\u001b[39m | \u001b[39m0.3063   \u001b[39m | \u001b[39m0.2935   \u001b[39m | \u001b[39m0.1847   \u001b[39m |\n",
            "0.39676747423066994 1.370439000793519 0.8383890288065896\n",
            "0.19 0.35 0.54\n",
            " target es: 10223.067960915734,Eror test: add,Trend test: mul,Seasonal test: mul,Alpha model: 0.19,Beta model: 0.35, Gamma model: 0.54\n",
            "| \u001b[39m2        \u001b[39m | \u001b[39m-1.022e+0\u001b[39m | \u001b[39m0.1925   \u001b[39m | \u001b[39m0.3486   \u001b[39m | \u001b[39m0.3968   \u001b[39m | \u001b[39m0.538    \u001b[39m | \u001b[39m0.8384   \u001b[39m | \u001b[39m1.37     \u001b[39m |\n",
            "0.027387593197926163 1.1173796568915033 0.8346096047342539\n",
            "0.21 0.87 0.67\n",
            " target es: 232248.286925202,Eror test: add,Trend test: mul,Seasonal test: mul,Alpha model: 0.21,Beta model: 0.87, Gamma model: 0.67\n",
            "| \u001b[39m3        \u001b[39m | \u001b[39m-2.322e+0\u001b[39m | \u001b[39m0.2104   \u001b[39m | \u001b[39m0.8706   \u001b[39m | \u001b[39m0.02739  \u001b[39m | \u001b[39m0.6671   \u001b[39m | \u001b[39m0.8346   \u001b[39m | \u001b[39m1.117    \u001b[39m |\n",
            "0.14930671317372957 0.3024271824233782 1.5360952002463533\n",
            "0.94 0.29 0.63\n",
            " target es: 288.3264696059359,Eror test: add,Trend test: add,Seasonal test: None,Alpha model: 0.94,Beta model: 0.29, Gamma model: 0.63\n",
            "| \u001b[35m4        \u001b[39m | \u001b[35m-288.3   \u001b[39m | \u001b[35m0.9352   \u001b[39m | \u001b[35m0.2927   \u001b[39m | \u001b[35m0.1493   \u001b[39m | \u001b[35m0.6262   \u001b[39m | \u001b[35m1.536    \u001b[39m | \u001b[35m0.3024   \u001b[39m |\n",
            "0.6641298116016829 1.7130053662221998 1.2503890117101133\n",
            "0.88 0.45 0.28\n",
            " target es: 121.94805054396302,Eror test: mul,Trend test: None,Seasonal test: mul,Alpha model: 0.88,Beta model: 0.45, Gamma model: 0.28\n",
            "| \u001b[35m5        \u001b[39m | \u001b[35m-121.9   \u001b[39m | \u001b[35m0.8799   \u001b[39m | \u001b[35m0.4483   \u001b[39m | \u001b[35m0.6641   \u001b[39m | \u001b[35m0.2813   \u001b[39m | \u001b[35m1.25     \u001b[39m | \u001b[35m1.713    \u001b[39m |\n",
            "0.9441435342774579 1.7489709916143148 1.525631143546039\n",
            "0.56 0.04 0.95\n",
            " target es: 189.98380330457113,Eror test: mul,Trend test: None,Seasonal test: None,Alpha model: 0.56,Beta model: 0.04, Gamma model: 0.95\n",
            "| \u001b[39m6        \u001b[39m | \u001b[39m-190.0   \u001b[39m | \u001b[39m0.5556   \u001b[39m | \u001b[39m0.0374   \u001b[39m | \u001b[39m0.9441   \u001b[39m | \u001b[39m0.9476   \u001b[39m | \u001b[39m1.526    \u001b[39m | \u001b[39m1.749    \u001b[39m |\n",
            "0.5150250270129793 0.14770331384149205 0.129957391298545\n",
            "0.19 0.61 0.29\n",
            " target es: 1087.759893462682,Eror test: mul,Trend test: add,Seasonal test: add,Alpha model: 0.19,Beta model: 0.61, Gamma model: 0.29\n",
            "| \u001b[39m7        \u001b[39m | \u001b[39m-1.088e+0\u001b[39m | \u001b[39m0.1918   \u001b[39m | \u001b[39m0.6065   \u001b[39m | \u001b[39m0.515    \u001b[39m | \u001b[39m0.2868   \u001b[39m | \u001b[39m0.13     \u001b[39m | \u001b[39m0.1477   \u001b[39m |\n",
            "0.6090929935858479 1.6344711044177425 1.1609141873999471\n",
            "0.71 0.41 0.36\n",
            " target es: 113.91406095421574,Eror test: mul,Trend test: None,Seasonal test: mul,Alpha model: 0.71,Beta model: 0.41, Gamma model: 0.36\n",
            "| \u001b[35m8        \u001b[39m | \u001b[35m-113.9   \u001b[39m | \u001b[35m0.7128   \u001b[39m | \u001b[35m0.4149   \u001b[39m | \u001b[35m0.6091   \u001b[39m | \u001b[35m0.3562   \u001b[39m | \u001b[35m1.161    \u001b[39m | \u001b[35m1.634    \u001b[39m |\n",
            "0.8822011721750663 1.6596893565618531 0.9624841590139598\n",
            "0.19 0.01 0.53\n",
            " target es: 134.37463316087954,Eror test: mul,Trend test: None,Seasonal test: mul,Alpha model: 0.19,Beta model: 0.01, Gamma model: 0.53\n",
            "| \u001b[39m9        \u001b[39m | \u001b[39m-134.4   \u001b[39m | \u001b[39m0.1901   \u001b[39m | \u001b[39m0.01     \u001b[39m | \u001b[39m0.8822   \u001b[39m | \u001b[39m0.5323   \u001b[39m | \u001b[39m0.9625   \u001b[39m | \u001b[39m1.66     \u001b[39m |\n",
            "0.1683126922426752 0.4296186581034449 0.9122585465272166\n",
            "0.26 0.95 0.78\n",
            " target es: 170191.62384824673,Eror test: add,Trend test: add,Seasonal test: mul,Alpha model: 0.26,Beta model: 0.95, Gamma model: 0.78\n",
            "| \u001b[39m10       \u001b[39m | \u001b[39m-1.702e+0\u001b[39m | \u001b[39m0.2638   \u001b[39m | \u001b[39m0.9549   \u001b[39m | \u001b[39m0.1683   \u001b[39m | \u001b[39m0.7797   \u001b[39m | \u001b[39m0.9123   \u001b[39m | \u001b[39m0.4296   \u001b[39m |\n",
            "0.26383826071935035 1.9531345661177257 0.7243349467344968\n",
            "0.33 0.17 0.61\n",
            " target es: 143.84473109941212,Eror test: add,Trend test: None,Seasonal test: mul,Alpha model: 0.33,Beta model: 0.17, Gamma model: 0.61\n",
            "| \u001b[39m11       \u001b[39m | \u001b[39m-143.8   \u001b[39m | \u001b[39m0.334    \u001b[39m | \u001b[39m0.1684   \u001b[39m | \u001b[39m0.2638   \u001b[39m | \u001b[39m0.613    \u001b[39m | \u001b[39m0.7243   \u001b[39m | \u001b[39m1.953    \u001b[39m |\n",
            "0.16894537729173797 0.6261107590821555 1.1090889890592421\n",
            "0.13 0.26 0.92\n",
            " target es: 254640407.76744446,Eror test: add,Trend test: mul,Seasonal test: mul,Alpha model: 0.13,Beta model: 0.26, Gamma model: 0.92\n",
            "| \u001b[39m12       \u001b[39m | \u001b[39m-2.546e+0\u001b[39m | \u001b[39m0.1284   \u001b[39m | \u001b[39m0.2621   \u001b[39m | \u001b[39m0.1689   \u001b[39m | \u001b[39m0.9199   \u001b[39m | \u001b[39m1.109    \u001b[39m | \u001b[39m0.6261   \u001b[39m |\n",
            "0.4718343669454852 1.938693931202336 1.596078272520222\n",
            "0.39 0.62 0.51\n",
            " target es: 197.15355023049412,Eror test: add,Trend test: None,Seasonal test: None,Alpha model: 0.39,Beta model: 0.62, Gamma model: 0.51\n",
            "| \u001b[39m13       \u001b[39m | \u001b[39m-197.2   \u001b[39m | \u001b[39m0.3869   \u001b[39m | \u001b[39m0.622    \u001b[39m | \u001b[39m0.4718   \u001b[39m | \u001b[39m0.5057   \u001b[39m | \u001b[39m1.596    \u001b[39m | \u001b[39m1.939    \u001b[39m |\n",
            "0.35527697882999404 1.7600323451832167 0.8211164416445819\n",
            "0.24 0.93 0.44\n",
            " target es: 129.43887712507833,Eror test: add,Trend test: None,Seasonal test: mul,Alpha model: 0.24,Beta model: 0.93, Gamma model: 0.44\n",
            "| \u001b[39m14       \u001b[39m | \u001b[39m-129.4   \u001b[39m | \u001b[39m0.2416   \u001b[39m | \u001b[39m0.9296   \u001b[39m | \u001b[39m0.3553   \u001b[39m | \u001b[39m0.4383   \u001b[39m | \u001b[39m0.8211   \u001b[39m | \u001b[39m1.76     \u001b[39m |\n",
            "0.00043743698372855633 0.16206395419620057 1.5497942505393845\n",
            "0.6 0.78 0.56\n",
            " target es: 1709.3860785224538,Eror test: add,Trend test: add,Seasonal test: None,Alpha model: 0.6,Beta model: 0.78, Gamma model: 0.56\n",
            "| \u001b[39m15       \u001b[39m | \u001b[39m-1.709e+0\u001b[39m | \u001b[39m0.6047   \u001b[39m | \u001b[39m0.7819   \u001b[39m | \u001b[39m0.0004374\u001b[39m | \u001b[39m0.5558   \u001b[39m | \u001b[39m1.55     \u001b[39m | \u001b[39m0.1621   \u001b[39m |\n",
            "0.15566580390800716 0.3044202658769536 1.5146643815052592\n",
            "0.92 0.32 0.62\n",
            " target es: 332.5249023833058,Eror test: add,Trend test: add,Seasonal test: None,Alpha model: 0.92,Beta model: 0.32, Gamma model: 0.62\n",
            "| \u001b[39m16       \u001b[39m | \u001b[39m-332.5   \u001b[39m | \u001b[39m0.9233   \u001b[39m | \u001b[39m0.3209   \u001b[39m | \u001b[39m0.1557   \u001b[39m | \u001b[39m0.6246   \u001b[39m | \u001b[39m1.515    \u001b[39m | \u001b[39m0.3044   \u001b[39m |\n",
            "0.35979636274629717 0.8231001181544259 0.6514811343602309\n",
            "0.71 0.99 0.19\n",
            " target es: 1029.6284906443009,Eror test: add,Trend test: mul,Seasonal test: mul,Alpha model: 0.71,Beta model: 0.99, Gamma model: 0.19\n",
            "| \u001b[39m17       \u001b[39m | \u001b[39m-1.03e+03\u001b[39m | \u001b[39m0.7075   \u001b[39m | \u001b[39m0.99     \u001b[39m | \u001b[39m0.3598   \u001b[39m | \u001b[39m0.1876   \u001b[39m | \u001b[39m0.6515   \u001b[39m | \u001b[39m0.8231   \u001b[39m |\n",
            "0.25343440684253427 0.0 0.8856704745256396\n",
            "0.99 0.99 0.51\n",
            " target es: 38049584428.573006,Eror test: add,Trend test: add,Seasonal test: mul,Alpha model: 0.99,Beta model: 0.99, Gamma model: 0.51\n",
            "| \u001b[39m18       \u001b[39m | \u001b[39m-3.805e+1\u001b[39m | \u001b[39m0.99     \u001b[39m | \u001b[39m0.99     \u001b[39m | \u001b[39m0.2534   \u001b[39m | \u001b[39m0.5144   \u001b[39m | \u001b[39m0.8857   \u001b[39m | \u001b[39m0.0      \u001b[39m |\n",
            "0.07477205443589334 0.768520066269511 1.8806350118110378\n",
            "0.32 0.62 0.51\n",
            " target es: 2691.142376786282,Eror test: add,Trend test: mul,Seasonal test: None,Alpha model: 0.32,Beta model: 0.62, Gamma model: 0.51\n",
            "| \u001b[39m19       \u001b[39m | \u001b[39m-2.691e+0\u001b[39m | \u001b[39m0.3165   \u001b[39m | \u001b[39m0.62     \u001b[39m | \u001b[39m0.07477  \u001b[39m | \u001b[39m0.5058   \u001b[39m | \u001b[39m1.881    \u001b[39m | \u001b[39m0.7685   \u001b[39m |\n",
            "0.044717990659378176 0.8330132459738151 0.21987362603550714\n",
            "0.01 0.79 0.01\n",
            " target es: 1231.495861084719,Eror test: add,Trend test: mul,Seasonal test: add,Alpha model: 0.01,Beta model: 0.79, Gamma model: 0.01\n",
            "| \u001b[39m20       \u001b[39m | \u001b[39m-1.231e+0\u001b[39m | \u001b[39m0.01     \u001b[39m | \u001b[39m0.7943   \u001b[39m | \u001b[39m0.04472  \u001b[39m | \u001b[39m0.01     \u001b[39m | \u001b[39m0.2199   \u001b[39m | \u001b[39m0.833    \u001b[39m |\n",
            "0.35108813442483777 1.223827690561452 0.2672108839348897\n",
            "0.81 0.87 0.99\n",
            " target es: 4.776114387927481e+68,Eror test: add,Trend test: mul,Seasonal test: add,Alpha model: 0.81,Beta model: 0.87, Gamma model: 0.99\n",
            "| \u001b[39m21       \u001b[39m | \u001b[39m-4.776e+6\u001b[39m | \u001b[39m0.805    \u001b[39m | \u001b[39m0.8733   \u001b[39m | \u001b[39m0.3511   \u001b[39m | \u001b[39m0.9869   \u001b[39m | \u001b[39m0.2672   \u001b[39m | \u001b[39m1.224    \u001b[39m |\n",
            "0.5282472146062095 0.8084088313184303 1.2051470341347832\n",
            "0.01 0.99 0.01\n",
            " target es: 1847.5048801479732,Eror test: mul,Trend test: mul,Seasonal test: mul,Alpha model: 0.01,Beta model: 0.99, Gamma model: 0.01\n",
            "| \u001b[39m22       \u001b[39m | \u001b[39m-1.848e+0\u001b[39m | \u001b[39m0.01     \u001b[39m | \u001b[39m0.99     \u001b[39m | \u001b[39m0.5282   \u001b[39m | \u001b[39m0.01     \u001b[39m | \u001b[39m1.205    \u001b[39m | \u001b[39m0.8084   \u001b[39m |\n",
            "0.0 1.6566074294986946 1.2604548338129933\n",
            "0.01 0.01 0.01\n",
            " target es: 1137.2951990079437,Eror test: add,Trend test: None,Seasonal test: mul,Alpha model: 0.01,Beta model: 0.01, Gamma model: 0.01\n",
            "| \u001b[39m23       \u001b[39m | \u001b[39m-1.137e+0\u001b[39m | \u001b[39m0.01     \u001b[39m | \u001b[39m0.01     \u001b[39m | \u001b[39m0.0      \u001b[39m | \u001b[39m0.01     \u001b[39m | \u001b[39m1.26     \u001b[39m | \u001b[39m1.657    \u001b[39m |\n",
            "1.0 0.0 1.1013878001792528\n",
            "0.58 0.01 0.01\n",
            " target es: 204.2153482184184,Eror test: mul,Trend test: add,Seasonal test: mul,Alpha model: 0.58,Beta model: 0.01, Gamma model: 0.01\n",
            "| \u001b[39m24       \u001b[39m | \u001b[39m-204.2   \u001b[39m | \u001b[39m0.576    \u001b[39m | \u001b[39m0.01     \u001b[39m | \u001b[39m1.0      \u001b[39m | \u001b[39m0.01     \u001b[39m | \u001b[39m1.101    \u001b[39m | \u001b[39m0.0      \u001b[39m |\n",
            "0.0 0.0 0.9385224680632881\n",
            "0.01 0.01 0.01\n",
            " target es: 194.79342268618703,Eror test: add,Trend test: add,Seasonal test: mul,Alpha model: 0.01,Beta model: 0.01, Gamma model: 0.01\n",
            "| \u001b[39m25       \u001b[39m | \u001b[39m-194.8   \u001b[39m | \u001b[39m0.01     \u001b[39m | \u001b[39m0.01     \u001b[39m | \u001b[39m0.0      \u001b[39m | \u001b[39m0.01     \u001b[39m | \u001b[39m0.9385   \u001b[39m | \u001b[39m0.0      \u001b[39m |\n",
            "1.0 0.0 2.0\n",
            "0.01 0.01 0.99\n",
            " target es: 173.70280282909025,Eror test: mul,Trend test: add,Seasonal test: None,Alpha model: 0.01,Beta model: 0.01, Gamma model: 0.99\n",
            "| \u001b[39m26       \u001b[39m | \u001b[39m-173.7   \u001b[39m | \u001b[39m0.01     \u001b[39m | \u001b[39m0.01     \u001b[39m | \u001b[39m1.0      \u001b[39m | \u001b[39m0.99     \u001b[39m | \u001b[39m2.0      \u001b[39m | \u001b[39m0.0      \u001b[39m |\n",
            "1.0 0.0 2.0\n",
            "0.99 0.99 0.01\n",
            " target es: 719.6093700850087,Eror test: mul,Trend test: add,Seasonal test: None,Alpha model: 0.99,Beta model: 0.99, Gamma model: 0.01\n",
            "| \u001b[39m27       \u001b[39m | \u001b[39m-719.6   \u001b[39m | \u001b[39m0.99     \u001b[39m | \u001b[39m0.99     \u001b[39m | \u001b[39m1.0      \u001b[39m | \u001b[39m0.01     \u001b[39m | \u001b[39m2.0      \u001b[39m | \u001b[39m0.0      \u001b[39m |\n",
            "1.0 1.002025809792553 2.0\n",
            "0.99 0.01 0.01\n",
            " target es: 257.9475949504741,Eror test: mul,Trend test: mul,Seasonal test: None,Alpha model: 0.99,Beta model: 0.01, Gamma model: 0.01\n",
            "| \u001b[39m28       \u001b[39m | \u001b[39m-257.9   \u001b[39m | \u001b[39m0.99     \u001b[39m | \u001b[39m0.01     \u001b[39m | \u001b[39m1.0      \u001b[39m | \u001b[39m0.01     \u001b[39m | \u001b[39m2.0      \u001b[39m | \u001b[39m1.002    \u001b[39m |\n",
            "0.0 1.086670008339003 1.4921356659728169\n",
            "0.99 0.99 0.01\n",
            " target es: 737.3997771061928,Eror test: add,Trend test: mul,Seasonal test: mul,Alpha model: 0.99,Beta model: 0.99, Gamma model: 0.01\n",
            "| \u001b[39m29       \u001b[39m | \u001b[39m-737.4   \u001b[39m | \u001b[39m0.99     \u001b[39m | \u001b[39m0.99     \u001b[39m | \u001b[39m0.0      \u001b[39m | \u001b[39m0.01     \u001b[39m | \u001b[39m1.492    \u001b[39m | \u001b[39m1.087    \u001b[39m |\n",
            "0.0 2.0 2.0\n",
            "0.99 0.01 0.01\n",
            " target es: 184.81962782960665,Eror test: add,Trend test: None,Seasonal test: None,Alpha model: 0.99,Beta model: 0.01, Gamma model: 0.01\n",
            "| \u001b[39m30       \u001b[39m | \u001b[39m-184.8   \u001b[39m | \u001b[39m0.99     \u001b[39m | \u001b[39m0.01     \u001b[39m | \u001b[39m0.0      \u001b[39m | \u001b[39m0.01     \u001b[39m | \u001b[39m2.0      \u001b[39m | \u001b[39m2.0      \u001b[39m |\n",
            "1.0 1.0356513528247957 2.0\n",
            "0.01 0.99 0.99\n",
            " target es: 20195216.27497739,Eror test: mul,Trend test: mul,Seasonal test: None,Alpha model: 0.01,Beta model: 0.99, Gamma model: 0.99\n",
            "| \u001b[39m31       \u001b[39m | \u001b[39m-2.02e+07\u001b[39m | \u001b[39m0.01     \u001b[39m | \u001b[39m0.99     \u001b[39m | \u001b[39m1.0      \u001b[39m | \u001b[39m0.99     \u001b[39m | \u001b[39m2.0      \u001b[39m | \u001b[39m1.036    \u001b[39m |\n",
            "1.0 2.0 2.0\n",
            "0.01 0.01 0.01\n",
            " target es: 1199.0561269276136,Eror test: mul,Trend test: None,Seasonal test: None,Alpha model: 0.01,Beta model: 0.01, Gamma model: 0.01\n",
            "| \u001b[39m32       \u001b[39m | \u001b[39m-1.199e+0\u001b[39m | \u001b[39m0.01     \u001b[39m | \u001b[39m0.01     \u001b[39m | \u001b[39m1.0      \u001b[39m | \u001b[39m0.01     \u001b[39m | \u001b[39m2.0      \u001b[39m | \u001b[39m2.0      \u001b[39m |\n",
            "0.0 2.0 2.0\n",
            "0.01 0.01 0.99\n",
            " target es: 1181.4536645514054,Eror test: add,Trend test: None,Seasonal test: None,Alpha model: 0.01,Beta model: 0.01, Gamma model: 0.99\n",
            "| \u001b[39m33       \u001b[39m | \u001b[39m-1.181e+0\u001b[39m | \u001b[39m0.01     \u001b[39m | \u001b[39m0.01     \u001b[39m | \u001b[39m0.0      \u001b[39m | \u001b[39m0.99     \u001b[39m | \u001b[39m2.0      \u001b[39m | \u001b[39m2.0      \u001b[39m |\n",
            "1.0 0.0 0.7641879193798073\n",
            "0.58 0.99 0.01\n",
            " target es: 337.3710049789948,Eror test: mul,Trend test: add,Seasonal test: mul,Alpha model: 0.58,Beta model: 0.99, Gamma model: 0.01\n",
            "| \u001b[39m34       \u001b[39m | \u001b[39m-337.4   \u001b[39m | \u001b[39m0.5752   \u001b[39m | \u001b[39m0.99     \u001b[39m | \u001b[39m1.0      \u001b[39m | \u001b[39m0.01     \u001b[39m | \u001b[39m0.7642   \u001b[39m | \u001b[39m0.0      \u001b[39m |\n",
            "1.0 2.0 0.0\n",
            "0.01 0.01 0.01\n",
            " target es: 1128.9222497318792,Eror test: mul,Trend test: None,Seasonal test: add,Alpha model: 0.01,Beta model: 0.01, Gamma model: 0.01\n",
            "| \u001b[39m35       \u001b[39m | \u001b[39m-1.129e+0\u001b[39m | \u001b[39m0.01     \u001b[39m | \u001b[39m0.01     \u001b[39m | \u001b[39m1.0      \u001b[39m | \u001b[39m0.01     \u001b[39m | \u001b[39m0.0      \u001b[39m | \u001b[39m2.0      \u001b[39m |\n",
            "1.0 2.0 1.11077901552747\n",
            "0.01 0.99 0.01\n",
            " target es: 1153.7647726133935,Eror test: mul,Trend test: None,Seasonal test: mul,Alpha model: 0.01,Beta model: 0.99, Gamma model: 0.01\n",
            "| \u001b[39m36       \u001b[39m | \u001b[39m-1.154e+0\u001b[39m | \u001b[39m0.01     \u001b[39m | \u001b[39m0.99     \u001b[39m | \u001b[39m1.0      \u001b[39m | \u001b[39m0.01     \u001b[39m | \u001b[39m1.111    \u001b[39m | \u001b[39m2.0      \u001b[39m |\n",
            "1.0 0.5818173881726159 2.0\n",
            "0.01 0.01 0.01\n",
            " target es: 163.56955375312668,Eror test: mul,Trend test: mul,Seasonal test: None,Alpha model: 0.01,Beta model: 0.01, Gamma model: 0.01\n",
            "| \u001b[39m37       \u001b[39m | \u001b[39m-163.6   \u001b[39m | \u001b[39m0.01     \u001b[39m | \u001b[39m0.01     \u001b[39m | \u001b[39m1.0      \u001b[39m | \u001b[39m0.01     \u001b[39m | \u001b[39m2.0      \u001b[39m | \u001b[39m0.5818   \u001b[39m |\n",
            "0.0 0.813527212808233 1.0310575123222772\n",
            "0.73 0.01 0.01\n",
            " target es: 225.7190515893422,Eror test: add,Trend test: mul,Seasonal test: mul,Alpha model: 0.73,Beta model: 0.01, Gamma model: 0.01\n",
            "| \u001b[39m38       \u001b[39m | \u001b[39m-225.7   \u001b[39m | \u001b[39m0.7348   \u001b[39m | \u001b[39m0.01     \u001b[39m | \u001b[39m0.0      \u001b[39m | \u001b[39m0.01     \u001b[39m | \u001b[39m1.031    \u001b[39m | \u001b[39m0.8135   \u001b[39m |\n",
            "0.0 2.0 2.0\n",
            "0.01 0.99 0.01\n",
            " target es: 1181.4536645514054,Eror test: add,Trend test: None,Seasonal test: None,Alpha model: 0.01,Beta model: 0.99, Gamma model: 0.01\n",
            "| \u001b[39m39       \u001b[39m | \u001b[39m-1.181e+0\u001b[39m | \u001b[39m0.01     \u001b[39m | \u001b[39m0.99     \u001b[39m | \u001b[39m0.0      \u001b[39m | \u001b[39m0.01     \u001b[39m | \u001b[39m2.0      \u001b[39m | \u001b[39m2.0      \u001b[39m |\n",
            "1.0 0.0 2.0\n",
            "0.99 0.99 0.99\n",
            " target es: 719.6093700850087,Eror test: mul,Trend test: add,Seasonal test: None,Alpha model: 0.99,Beta model: 0.99, Gamma model: 0.99\n",
            "| \u001b[39m40       \u001b[39m | \u001b[39m-719.6   \u001b[39m | \u001b[39m0.99     \u001b[39m | \u001b[39m0.99     \u001b[39m | \u001b[39m1.0      \u001b[39m | \u001b[39m0.99     \u001b[39m | \u001b[39m2.0      \u001b[39m | \u001b[39m0.0      \u001b[39m |\n",
            "0.0 1.440231534824725 1.6086579205641722\n",
            "0.01 0.99 0.99\n",
            " target es: 18058483.07679994,Eror test: add,Trend test: mul,Seasonal test: None,Alpha model: 0.01,Beta model: 0.99, Gamma model: 0.99\n",
            "| \u001b[39m41       \u001b[39m | \u001b[39m-1.806e+0\u001b[39m | \u001b[39m0.01     \u001b[39m | \u001b[39m0.99     \u001b[39m | \u001b[39m0.0      \u001b[39m | \u001b[39m0.99     \u001b[39m | \u001b[39m1.609    \u001b[39m | \u001b[39m1.44     \u001b[39m |\n",
            "1.0 2.0 2.0\n",
            "0.99 0.99 0.01\n",
            " target es: 184.81962782960665,Eror test: mul,Trend test: None,Seasonal test: None,Alpha model: 0.99,Beta model: 0.99, Gamma model: 0.01\n",
            "| \u001b[39m42       \u001b[39m | \u001b[39m-184.8   \u001b[39m | \u001b[39m0.99     \u001b[39m | \u001b[39m0.99     \u001b[39m | \u001b[39m1.0      \u001b[39m | \u001b[39m0.01     \u001b[39m | \u001b[39m2.0      \u001b[39m | \u001b[39m2.0      \u001b[39m |\n",
            "0.0 0.0 0.8945918942290002\n",
            "0.01 0.99 0.01\n",
            " target es: 322721.4913297173,Eror test: add,Trend test: add,Seasonal test: mul,Alpha model: 0.01,Beta model: 0.99, Gamma model: 0.01\n",
            "| \u001b[39m43       \u001b[39m | \u001b[39m-3.227e+0\u001b[39m | \u001b[39m0.01     \u001b[39m | \u001b[39m0.99     \u001b[39m | \u001b[39m0.0      \u001b[39m | \u001b[39m0.01     \u001b[39m | \u001b[39m0.8946   \u001b[39m | \u001b[39m0.0      \u001b[39m |\n",
            "0.0 1.4490713097794303 1.0079822823489173\n",
            "0.01 0.99 0.01\n",
            " target es: 1426.572250839161,Eror test: add,Trend test: mul,Seasonal test: mul,Alpha model: 0.01,Beta model: 0.99, Gamma model: 0.01\n",
            "| \u001b[39m44       \u001b[39m | \u001b[39m-1.427e+0\u001b[39m | \u001b[39m0.01     \u001b[39m | \u001b[39m0.99     \u001b[39m | \u001b[39m0.0      \u001b[39m | \u001b[39m0.01     \u001b[39m | \u001b[39m1.008    \u001b[39m | \u001b[39m1.449    \u001b[39m |\n",
            "0.0 0.0 2.0\n",
            "0.01 0.01 0.01\n",
            " target es: 176.63431794334036,Eror test: add,Trend test: add,Seasonal test: None,Alpha model: 0.01,Beta model: 0.01, Gamma model: 0.01\n",
            "| \u001b[39m45       \u001b[39m | \u001b[39m-176.6   \u001b[39m | \u001b[39m0.01     \u001b[39m | \u001b[39m0.01     \u001b[39m | \u001b[39m0.0      \u001b[39m | \u001b[39m0.01     \u001b[39m | \u001b[39m2.0      \u001b[39m | \u001b[39m0.0      \u001b[39m |\n",
            "1.0 0.0 1.400065992679138\n",
            "0.01 0.99 0.99\n",
            " target es: 231140.27510028586,Eror test: mul,Trend test: add,Seasonal test: mul,Alpha model: 0.01,Beta model: 0.99, Gamma model: 0.99\n",
            "| \u001b[39m46       \u001b[39m | \u001b[39m-2.311e+0\u001b[39m | \u001b[39m0.01     \u001b[39m | \u001b[39m0.99     \u001b[39m | \u001b[39m1.0      \u001b[39m | \u001b[39m0.99     \u001b[39m | \u001b[39m1.4      \u001b[39m | \u001b[39m0.0      \u001b[39m |\n",
            "1.0 0.0 0.0\n",
            "0.99 0.01 0.01\n",
            " target es: 213.35974235240923,Eror test: mul,Trend test: add,Seasonal test: add,Alpha model: 0.99,Beta model: 0.01, Gamma model: 0.01\n",
            "| \u001b[39m47       \u001b[39m | \u001b[39m-213.4   \u001b[39m | \u001b[39m0.99     \u001b[39m | \u001b[39m0.01     \u001b[39m | \u001b[39m1.0      \u001b[39m | \u001b[39m0.01     \u001b[39m | \u001b[39m0.0      \u001b[39m | \u001b[39m0.0      \u001b[39m |\n",
            "0.0 1.3423223277109901 2.0\n",
            "0.99 0.01 0.99\n",
            " target es: 249.74029157478978,Eror test: add,Trend test: mul,Seasonal test: None,Alpha model: 0.99,Beta model: 0.01, Gamma model: 0.99\n",
            "| \u001b[39m48       \u001b[39m | \u001b[39m-249.7   \u001b[39m | \u001b[39m0.99     \u001b[39m | \u001b[39m0.01     \u001b[39m | \u001b[39m0.0      \u001b[39m | \u001b[39m0.99     \u001b[39m | \u001b[39m2.0      \u001b[39m | \u001b[39m1.342    \u001b[39m |\n",
            "0.0 2.0 0.10510621056890729\n",
            "0.01 0.01 0.01\n",
            " target es: 1116.2300914097411,Eror test: add,Trend test: None,Seasonal test: add,Alpha model: 0.01,Beta model: 0.01, Gamma model: 0.01\n",
            "| \u001b[39m49       \u001b[39m | \u001b[39m-1.116e+0\u001b[39m | \u001b[39m0.01     \u001b[39m | \u001b[39m0.01     \u001b[39m | \u001b[39m0.0      \u001b[39m | \u001b[39m0.01     \u001b[39m | \u001b[39m0.1051   \u001b[39m | \u001b[39m2.0      \u001b[39m |\n",
            "1.0 0.8539227391957444 1.3789582989247773\n",
            "0.99 0.99 0.01\n",
            " target es: 680.8598555925524,Eror test: mul,Trend test: mul,Seasonal test: mul,Alpha model: 0.99,Beta model: 0.99, Gamma model: 0.01\n",
            "| \u001b[39m50       \u001b[39m | \u001b[39m-680.9   \u001b[39m | \u001b[39m0.99     \u001b[39m | \u001b[39m0.99     \u001b[39m | \u001b[39m1.0      \u001b[39m | \u001b[39m0.01     \u001b[39m | \u001b[39m1.379    \u001b[39m | \u001b[39m0.8539   \u001b[39m |\n",
            "1.0 0.7462552956832866 0.5632018982620687\n",
            "0.01 0.01 0.01\n",
            " target es: 198.52152252988563,Eror test: mul,Trend test: mul,Seasonal test: mul,Alpha model: 0.01,Beta model: 0.01, Gamma model: 0.01\n",
            "| \u001b[39m51       \u001b[39m | \u001b[39m-198.5   \u001b[39m | \u001b[39m0.01     \u001b[39m | \u001b[39m0.01     \u001b[39m | \u001b[39m1.0      \u001b[39m | \u001b[39m0.01     \u001b[39m | \u001b[39m0.5632   \u001b[39m | \u001b[39m0.7463   \u001b[39m |\n",
            "0.9629211562066065 1.7081152826125667 1.5254218438089258\n",
            "0.57 0.08 0.89\n",
            " target es: 189.56573339170941,Eror test: mul,Trend test: None,Seasonal test: None,Alpha model: 0.57,Beta model: 0.08, Gamma model: 0.89\n",
            "| \u001b[39m52       \u001b[39m | \u001b[39m-189.6   \u001b[39m | \u001b[39m0.5702   \u001b[39m | \u001b[39m0.08029  \u001b[39m | \u001b[39m0.9629   \u001b[39m | \u001b[39m0.8888   \u001b[39m | \u001b[39m1.525    \u001b[39m | \u001b[39m1.708    \u001b[39m |\n",
            "1.0 0.0 2.0\n",
            "0.01 0.99 0.01\n",
            " target es: 44540.84816677625,Eror test: mul,Trend test: add,Seasonal test: None,Alpha model: 0.01,Beta model: 0.99, Gamma model: 0.01\n",
            "| \u001b[39m53       \u001b[39m | \u001b[39m-4.454e+0\u001b[39m | \u001b[39m0.01     \u001b[39m | \u001b[39m0.99     \u001b[39m | \u001b[39m1.0      \u001b[39m | \u001b[39m0.01     \u001b[39m | \u001b[39m2.0      \u001b[39m | \u001b[39m0.0      \u001b[39m |\n",
            "1.0 0.5779846137428165 2.0\n",
            "0.99 0.01 0.99\n",
            " target es: 257.9475949504741,Eror test: mul,Trend test: mul,Seasonal test: None,Alpha model: 0.99,Beta model: 0.01, Gamma model: 0.99\n",
            "| \u001b[39m54       \u001b[39m | \u001b[39m-257.9   \u001b[39m | \u001b[39m0.99     \u001b[39m | \u001b[39m0.01     \u001b[39m | \u001b[39m1.0      \u001b[39m | \u001b[39m0.99     \u001b[39m | \u001b[39m2.0      \u001b[39m | \u001b[39m0.578    \u001b[39m |\n",
            "0.0 0.0 0.0\n",
            "0.01 0.01 0.01\n",
            " target es: 126.09945570024432,Eror test: add,Trend test: add,Seasonal test: add,Alpha model: 0.01,Beta model: 0.01, Gamma model: 0.01\n",
            "| \u001b[39m55       \u001b[39m | \u001b[39m-126.1   \u001b[39m | \u001b[39m0.01     \u001b[39m | \u001b[39m0.01     \u001b[39m | \u001b[39m0.0      \u001b[39m | \u001b[39m0.01     \u001b[39m | \u001b[39m0.0      \u001b[39m | \u001b[39m0.0      \u001b[39m |\n",
            "0.0 0.0 2.0\n",
            "0.01 0.01 0.99\n",
            " target es: 176.63431794334036,Eror test: add,Trend test: add,Seasonal test: None,Alpha model: 0.01,Beta model: 0.01, Gamma model: 0.99\n",
            "| \u001b[39m56       \u001b[39m | \u001b[39m-176.6   \u001b[39m | \u001b[39m0.01     \u001b[39m | \u001b[39m0.01     \u001b[39m | \u001b[39m0.0      \u001b[39m | \u001b[39m0.99     \u001b[39m | \u001b[39m2.0      \u001b[39m | \u001b[39m0.0      \u001b[39m |\n",
            "0.7148496617701945 1.1201691885451652 2.0\n",
            "0.01 0.01 0.99\n",
            " target es: 163.56955375312668,Eror test: mul,Trend test: mul,Seasonal test: None,Alpha model: 0.01,Beta model: 0.01, Gamma model: 0.99\n",
            "| \u001b[39m57       \u001b[39m | \u001b[39m-163.6   \u001b[39m | \u001b[39m0.01     \u001b[39m | \u001b[39m0.01     \u001b[39m | \u001b[39m0.7148   \u001b[39m | \u001b[39m0.99     \u001b[39m | \u001b[39m2.0      \u001b[39m | \u001b[39m1.12     \u001b[39m |\n",
            "1.0 0.0 0.7138060292514691\n",
            "0.01 0.01 0.99\n",
            " target es: 144.87878289748426,Eror test: mul,Trend test: add,Seasonal test: mul,Alpha model: 0.01,Beta model: 0.01, Gamma model: 0.99\n",
            "| \u001b[39m58       \u001b[39m | \u001b[39m-144.9   \u001b[39m | \u001b[39m0.01     \u001b[39m | \u001b[39m0.01     \u001b[39m | \u001b[39m1.0      \u001b[39m | \u001b[39m0.99     \u001b[39m | \u001b[39m0.7138   \u001b[39m | \u001b[39m0.0      \u001b[39m |\n",
            "1.0 2.0 2.0\n",
            "0.01 0.99 0.99\n",
            " target es: 1199.0561269276136,Eror test: mul,Trend test: None,Seasonal test: None,Alpha model: 0.01,Beta model: 0.99, Gamma model: 0.99\n",
            "| \u001b[39m59       \u001b[39m | \u001b[39m-1.199e+0\u001b[39m | \u001b[39m0.01     \u001b[39m | \u001b[39m0.99     \u001b[39m | \u001b[39m1.0      \u001b[39m | \u001b[39m0.99     \u001b[39m | \u001b[39m2.0      \u001b[39m | \u001b[39m2.0      \u001b[39m |\n",
            "1.0 1.4247988337784028 2.0\n",
            "0.99 0.99 0.99\n",
            " target es: 688.2678699289816,Eror test: mul,Trend test: mul,Seasonal test: None,Alpha model: 0.99,Beta model: 0.99, Gamma model: 0.99\n",
            "| \u001b[39m60       \u001b[39m | \u001b[39m-688.3   \u001b[39m | \u001b[39m0.99     \u001b[39m | \u001b[39m0.99     \u001b[39m | \u001b[39m1.0      \u001b[39m | \u001b[39m0.99     \u001b[39m | \u001b[39m2.0      \u001b[39m | \u001b[39m1.425    \u001b[39m |\n",
            "0.6262625651133386 1.4026126745983867 0.49969904082676453\n",
            "0.69 0.96 0.61\n",
            " target es: 2393809288.934389,Eror test: mul,Trend test: mul,Seasonal test: add,Alpha model: 0.69,Beta model: 0.96, Gamma model: 0.61\n",
            "| \u001b[39m61       \u001b[39m | \u001b[39m-2.394e+0\u001b[39m | \u001b[39m0.6872   \u001b[39m | \u001b[39m0.9622   \u001b[39m | \u001b[39m0.6263   \u001b[39m | \u001b[39m0.6087   \u001b[39m | \u001b[39m0.4997   \u001b[39m | \u001b[39m1.403    \u001b[39m |\n",
            "0.28013407093257503 1.2725210182083542 1.2861194034315295\n",
            "0.11 0.23 0.86\n",
            " target es: 80388953570.8641,Eror test: add,Trend test: mul,Seasonal test: mul,Alpha model: 0.11,Beta model: 0.23, Gamma model: 0.86\n",
            "| \u001b[39m62       \u001b[39m | \u001b[39m-8.039e+1\u001b[39m | \u001b[39m0.1072   \u001b[39m | \u001b[39m0.232    \u001b[39m | \u001b[39m0.2801   \u001b[39m | \u001b[39m0.8587   \u001b[39m | \u001b[39m1.286    \u001b[39m | \u001b[39m1.273    \u001b[39m |\n",
            "0.8151026253897121 1.4993829321989407 0.6956857389302197\n",
            "0.6 0.99 0.32\n",
            " target es: 1323.4819406389954,Eror test: mul,Trend test: mul,Seasonal test: mul,Alpha model: 0.6,Beta model: 0.99, Gamma model: 0.32\n",
            "| \u001b[39m63       \u001b[39m | \u001b[39m-1.323e+0\u001b[39m | \u001b[39m0.5999   \u001b[39m | \u001b[39m0.99     \u001b[39m | \u001b[39m0.8151   \u001b[39m | \u001b[39m0.3168   \u001b[39m | \u001b[39m0.6957   \u001b[39m | \u001b[39m1.499    \u001b[39m |\n",
            "0.29079140186185826 1.2336437894368568 1.337361134774278\n",
            "0.32 0.77 0.37\n",
            " target es: 1477.229193562093,Eror test: add,Trend test: mul,Seasonal test: mul,Alpha model: 0.32,Beta model: 0.77, Gamma model: 0.37\n",
            "| \u001b[39m64       \u001b[39m | \u001b[39m-1.477e+0\u001b[39m | \u001b[39m0.3207   \u001b[39m | \u001b[39m0.7655   \u001b[39m | \u001b[39m0.2908   \u001b[39m | \u001b[39m0.3744   \u001b[39m | \u001b[39m1.337    \u001b[39m | \u001b[39m1.234    \u001b[39m |\n",
            "0.685646879961056 1.2343158072277927 0.2801451611016843\n",
            "0.45 0.08 0.75\n",
            " target es: 240.9676406887239,Eror test: mul,Trend test: mul,Seasonal test: add,Alpha model: 0.45,Beta model: 0.08, Gamma model: 0.75\n",
            "| \u001b[39m65       \u001b[39m | \u001b[39m-241.0   \u001b[39m | \u001b[39m0.4475   \u001b[39m | \u001b[39m0.08285  \u001b[39m | \u001b[39m0.6856   \u001b[39m | \u001b[39m0.7456   \u001b[39m | \u001b[39m0.2801   \u001b[39m | \u001b[39m1.234    \u001b[39m |\n",
            "0.8137298774750874 0.31127774401609143 1.7149425803845375\n",
            "0.91 0.64 0.32\n",
            " target es: 461.4420255494953,Eror test: mul,Trend test: add,Seasonal test: None,Alpha model: 0.91,Beta model: 0.64, Gamma model: 0.32\n",
            "| \u001b[39m66       \u001b[39m | \u001b[39m-461.4   \u001b[39m | \u001b[39m0.9065   \u001b[39m | \u001b[39m0.6355   \u001b[39m | \u001b[39m0.8137   \u001b[39m | \u001b[39m0.3241   \u001b[39m | \u001b[39m1.715    \u001b[39m | \u001b[39m0.3113   \u001b[39m |\n",
            "0.502706312340783 1.3705169937768629 0.8028570624159652\n",
            "0.87 0.72 0.54\n",
            " target es: 305967.0249884812,Eror test: mul,Trend test: mul,Seasonal test: mul,Alpha model: 0.87,Beta model: 0.72, Gamma model: 0.54\n",
            "| \u001b[39m67       \u001b[39m | \u001b[39m-3.06e+05\u001b[39m | \u001b[39m0.8663   \u001b[39m | \u001b[39m0.723    \u001b[39m | \u001b[39m0.5027   \u001b[39m | \u001b[39m0.5386   \u001b[39m | \u001b[39m0.8029   \u001b[39m | \u001b[39m1.371    \u001b[39m |\n",
            "0.1444467892481693 0.6264629618130639 1.0757389923656595\n",
            "0.35 0.6 0.25\n",
            " target es: 1504.9254673209698,Eror test: add,Trend test: mul,Seasonal test: mul,Alpha model: 0.35,Beta model: 0.6, Gamma model: 0.25\n",
            "| \u001b[39m68       \u001b[39m | \u001b[39m-1.505e+0\u001b[39m | \u001b[39m0.3495   \u001b[39m | \u001b[39m0.5982   \u001b[39m | \u001b[39m0.1444   \u001b[39m | \u001b[39m0.2545   \u001b[39m | \u001b[39m1.076    \u001b[39m | \u001b[39m0.6265   \u001b[39m |\n",
            "0.34694102357454415 1.305464897806998 0.8189367995682318\n",
            "0.51 0.68 0.02\n",
            " target es: 843.0950605701589,Eror test: add,Trend test: mul,Seasonal test: mul,Alpha model: 0.51,Beta model: 0.68, Gamma model: 0.02\n",
            "| \u001b[39m69       \u001b[39m | \u001b[39m-843.1   \u001b[39m | \u001b[39m0.5096   \u001b[39m | \u001b[39m0.6832   \u001b[39m | \u001b[39m0.3469   \u001b[39m | \u001b[39m0.02167  \u001b[39m | \u001b[39m0.8189   \u001b[39m | \u001b[39m1.305    \u001b[39m |\n",
            "0.5194880226698325 0.9410896167036723 1.2341910369213829\n",
            "0.85 0.59 0.24\n",
            " target es: 303.308001738857,Eror test: mul,Trend test: mul,Seasonal test: mul,Alpha model: 0.85,Beta model: 0.59, Gamma model: 0.24\n",
            "| \u001b[39m70       \u001b[39m | \u001b[39m-303.3   \u001b[39m | \u001b[39m0.8497   \u001b[39m | \u001b[39m0.5928   \u001b[39m | \u001b[39m0.5195   \u001b[39m | \u001b[39m0.2379   \u001b[39m | \u001b[39m1.234    \u001b[39m | \u001b[39m0.9411   \u001b[39m |\n",
            "0.7922330830976071 1.0177413408821971 0.9383204180194521\n",
            "0.35 0.76 0.41\n",
            " target es: 483.3086270670251,Eror test: mul,Trend test: mul,Seasonal test: mul,Alpha model: 0.35,Beta model: 0.76, Gamma model: 0.41\n",
            "| \u001b[39m71       \u001b[39m | \u001b[39m-483.3   \u001b[39m | \u001b[39m0.3504   \u001b[39m | \u001b[39m0.7632   \u001b[39m | \u001b[39m0.7922   \u001b[39m | \u001b[39m0.4059   \u001b[39m | \u001b[39m0.9383   \u001b[39m | \u001b[39m1.018    \u001b[39m |\n",
            "0.44069822250478796 0.10937941365590675 0.7977875191125716\n",
            "0.24 0.94 0.67\n",
            " target es: 238814.12366204744,Eror test: add,Trend test: add,Seasonal test: mul,Alpha model: 0.24,Beta model: 0.94, Gamma model: 0.67\n",
            "| \u001b[39m72       \u001b[39m | \u001b[39m-2.388e+0\u001b[39m | \u001b[39m0.2394   \u001b[39m | \u001b[39m0.9387   \u001b[39m | \u001b[39m0.4407   \u001b[39m | \u001b[39m0.6724   \u001b[39m | \u001b[39m0.7978   \u001b[39m | \u001b[39m0.1094   \u001b[39m |\n",
            "0.587572801966142 0.3856999789992715 1.20796505283811\n",
            "0.58 0.99 0.27\n",
            " target es: 140732.12072147866,Eror test: mul,Trend test: add,Seasonal test: mul,Alpha model: 0.58,Beta model: 0.99, Gamma model: 0.27\n",
            "| \u001b[39m73       \u001b[39m | \u001b[39m-1.407e+0\u001b[39m | \u001b[39m0.5805   \u001b[39m | \u001b[39m0.99     \u001b[39m | \u001b[39m0.5876   \u001b[39m | \u001b[39m0.2712   \u001b[39m | \u001b[39m1.208    \u001b[39m | \u001b[39m0.3857   \u001b[39m |\n",
            "0.019864269763883224 0.12170572752084974 0.9276984213267103\n",
            "0.04 0.03 0.05\n",
            " target es: 163.4622696070448,Eror test: add,Trend test: add,Seasonal test: mul,Alpha model: 0.04,Beta model: 0.03, Gamma model: 0.05\n",
            "| \u001b[39m74       \u001b[39m | \u001b[39m-163.5   \u001b[39m | \u001b[39m0.04482  \u001b[39m | \u001b[39m0.02997  \u001b[39m | \u001b[39m0.01986  \u001b[39m | \u001b[39m0.04936  \u001b[39m | \u001b[39m0.9277   \u001b[39m | \u001b[39m0.1217   \u001b[39m |\n",
            "0.6795315476677037 0.530996289966991 1.5251202729690485\n",
            "0.24 0.47 0.59\n",
            " target es: 1845.0216945203413,Eror test: mul,Trend test: mul,Seasonal test: None,Alpha model: 0.24,Beta model: 0.47, Gamma model: 0.59\n",
            "| \u001b[39m75       \u001b[39m | \u001b[39m-1.845e+0\u001b[39m | \u001b[39m0.2412   \u001b[39m | \u001b[39m0.469    \u001b[39m | \u001b[39m0.6795   \u001b[39m | \u001b[39m0.5903   \u001b[39m | \u001b[39m1.525    \u001b[39m | \u001b[39m0.531    \u001b[39m |\n",
            "0.7031175653379136 0.29059299855221277 0.8450464916851921\n",
            "0.18 0.45 0.17\n",
            " target es: 1013.9258904671058,Eror test: mul,Trend test: add,Seasonal test: mul,Alpha model: 0.18,Beta model: 0.45, Gamma model: 0.17\n",
            "| \u001b[39m76       \u001b[39m | \u001b[39m-1.014e+0\u001b[39m | \u001b[39m0.1844   \u001b[39m | \u001b[39m0.4515   \u001b[39m | \u001b[39m0.7031   \u001b[39m | \u001b[39m0.1723   \u001b[39m | \u001b[39m0.845    \u001b[39m | \u001b[39m0.2906   \u001b[39m |\n",
            "0.58656682245902 0.9550685866321758 1.23355284415602\n",
            "0.24 0.08 0.19\n",
            " target es: 152.39195809320094,Eror test: mul,Trend test: mul,Seasonal test: mul,Alpha model: 0.24,Beta model: 0.08, Gamma model: 0.19\n",
            "| \u001b[39m77       \u001b[39m | \u001b[39m-152.4   \u001b[39m | \u001b[39m0.2443   \u001b[39m | \u001b[39m0.07721  \u001b[39m | \u001b[39m0.5866   \u001b[39m | \u001b[39m0.1876   \u001b[39m | \u001b[39m1.234    \u001b[39m | \u001b[39m0.9551   \u001b[39m |\n",
            "0.769562660433023 1.2964301132021117 1.977066773914165\n",
            "0.95 0.59 0.42\n",
            " target es: 419.9692861951889,Eror test: mul,Trend test: mul,Seasonal test: None,Alpha model: 0.95,Beta model: 0.59, Gamma model: 0.42\n",
            "| \u001b[39m78       \u001b[39m | \u001b[39m-420.0   \u001b[39m | \u001b[39m0.954    \u001b[39m | \u001b[39m0.5882   \u001b[39m | \u001b[39m0.7696   \u001b[39m | \u001b[39m0.4199   \u001b[39m | \u001b[39m1.977    \u001b[39m | \u001b[39m1.296    \u001b[39m |\n",
            "0.49036506475837766 1.0209293877625594 1.6933515038155051\n",
            "0.65 0.14 0.67\n",
            " target es: 211.5329479696522,Eror test: add,Trend test: mul,Seasonal test: None,Alpha model: 0.65,Beta model: 0.14, Gamma model: 0.67\n",
            "| \u001b[39m79       \u001b[39m | \u001b[39m-211.5   \u001b[39m | \u001b[39m0.654    \u001b[39m | \u001b[39m0.144    \u001b[39m | \u001b[39m0.4904   \u001b[39m | \u001b[39m0.666    \u001b[39m | \u001b[39m1.693    \u001b[39m | \u001b[39m1.021    \u001b[39m |\n",
            "0.19017405826713563 1.3080226354864202 0.31614571690043136\n",
            "0.05 0.02 0.06\n",
            " target es: 199.69733412443395,Eror test: add,Trend test: mul,Seasonal test: add,Alpha model: 0.05,Beta model: 0.02, Gamma model: 0.06\n",
            "| \u001b[39m80       \u001b[39m | \u001b[39m-199.7   \u001b[39m | \u001b[39m0.04957  \u001b[39m | \u001b[39m0.02296  \u001b[39m | \u001b[39m0.1902   \u001b[39m | \u001b[39m0.0634   \u001b[39m | \u001b[39m0.3161   \u001b[39m | \u001b[39m1.308    \u001b[39m |\n",
            "0.8666831205257287 1.2914274574658275 1.6962624347264688\n",
            "0.18 0.5 0.5\n",
            " target es: 2170.0791534075356,Eror test: mul,Trend test: mul,Seasonal test: None,Alpha model: 0.18,Beta model: 0.5, Gamma model: 0.5\n",
            "| \u001b[39m81       \u001b[39m | \u001b[39m-2.17e+03\u001b[39m | \u001b[39m0.1842   \u001b[39m | \u001b[39m0.4979   \u001b[39m | \u001b[39m0.8667   \u001b[39m | \u001b[39m0.5015   \u001b[39m | \u001b[39m1.696    \u001b[39m | \u001b[39m1.291    \u001b[39m |\n",
            "0.7714209985537779 1.4179602950304036 1.3464553689375927\n",
            "0.76 0.99 0.62\n",
            " target es: 5902739.70669243,Eror test: mul,Trend test: mul,Seasonal test: mul,Alpha model: 0.76,Beta model: 0.99, Gamma model: 0.62\n",
            "| \u001b[39m82       \u001b[39m | \u001b[39m-5.903e+0\u001b[39m | \u001b[39m0.7598   \u001b[39m | \u001b[39m0.99     \u001b[39m | \u001b[39m0.7714   \u001b[39m | \u001b[39m0.6188   \u001b[39m | \u001b[39m1.346    \u001b[39m | \u001b[39m1.418    \u001b[39m |\n",
            "0.6148750546819955 0.34074335316695903 1.40131284362241\n",
            "0.41 0.17 0.58\n",
            " target es: 429.16937196472554,Eror test: mul,Trend test: add,Seasonal test: mul,Alpha model: 0.41,Beta model: 0.17, Gamma model: 0.58\n",
            "| \u001b[39m83       \u001b[39m | \u001b[39m-429.2   \u001b[39m | \u001b[39m0.4089   \u001b[39m | \u001b[39m0.1678   \u001b[39m | \u001b[39m0.6149   \u001b[39m | \u001b[39m0.5802   \u001b[39m | \u001b[39m1.401    \u001b[39m | \u001b[39m0.3407   \u001b[39m |\n",
            "0.5191582889743536 1.6459417942453631 0.3025929759173738\n",
            "0.98 0.75 0.54\n",
            " target es: 178.44027313250515,Eror test: mul,Trend test: None,Seasonal test: add,Alpha model: 0.98,Beta model: 0.75, Gamma model: 0.54\n",
            "| \u001b[39m84       \u001b[39m | \u001b[39m-178.4   \u001b[39m | \u001b[39m0.9791   \u001b[39m | \u001b[39m0.7478   \u001b[39m | \u001b[39m0.5192   \u001b[39m | \u001b[39m0.5403   \u001b[39m | \u001b[39m0.3026   \u001b[39m | \u001b[39m1.646    \u001b[39m |\n",
            "0.349409494745604 0.12600266904544832 1.4129929967492847\n",
            "0.99 0.43 0.46\n",
            " target es: 698.055980577126,Eror test: add,Trend test: add,Seasonal test: mul,Alpha model: 0.99,Beta model: 0.43, Gamma model: 0.46\n",
            "| \u001b[39m85       \u001b[39m | \u001b[39m-698.1   \u001b[39m | \u001b[39m0.9871   \u001b[39m | \u001b[39m0.4288   \u001b[39m | \u001b[39m0.3494   \u001b[39m | \u001b[39m0.4555   \u001b[39m | \u001b[39m1.413    \u001b[39m | \u001b[39m0.126    \u001b[39m |\n",
            "0.6462319889775164 1.9286464329978603 0.6050749696888386\n",
            "0.9 0.84 0.37\n",
            " target es: 113.35701364728104,Eror test: mul,Trend test: None,Seasonal test: mul,Alpha model: 0.9,Beta model: 0.84, Gamma model: 0.37\n",
            "| \u001b[35m86       \u001b[39m | \u001b[35m-113.4   \u001b[39m | \u001b[35m0.9047   \u001b[39m | \u001b[35m0.839    \u001b[39m | \u001b[35m0.6462   \u001b[39m | \u001b[35m0.3677   \u001b[39m | \u001b[35m0.6051   \u001b[39m | \u001b[35m1.929    \u001b[39m |\n",
            "0.7845666020085116 1.5117375030453004 0.3577447989109511\n",
            "0.85 0.57 0.16\n",
            " target es: 121.07204759534457,Eror test: mul,Trend test: None,Seasonal test: add,Alpha model: 0.85,Beta model: 0.57, Gamma model: 0.16\n",
            "| \u001b[39m87       \u001b[39m | \u001b[39m-121.1   \u001b[39m | \u001b[39m0.8509   \u001b[39m | \u001b[39m0.5726   \u001b[39m | \u001b[39m0.7846   \u001b[39m | \u001b[39m0.1627   \u001b[39m | \u001b[39m0.3577   \u001b[39m | \u001b[39m1.512    \u001b[39m |\n",
            "0.7959731290483256 0.07500036361822948 0.46386894565984327\n",
            "0.61 0.47 0.18\n",
            " target es: 239.647534904073,Eror test: mul,Trend test: add,Seasonal test: add,Alpha model: 0.61,Beta model: 0.47, Gamma model: 0.18\n",
            "| \u001b[39m88       \u001b[39m | \u001b[39m-239.6   \u001b[39m | \u001b[39m0.6066   \u001b[39m | \u001b[39m0.4696   \u001b[39m | \u001b[39m0.796    \u001b[39m | \u001b[39m0.1801   \u001b[39m | \u001b[39m0.4639   \u001b[39m | \u001b[39m0.075    \u001b[39m |\n",
            "0.6758467500291165 0.5021607851164112 1.042839766602503\n",
            "0.35 0.5 0.09\n",
            " target es: 899.8335961703027,Eror test: mul,Trend test: mul,Seasonal test: mul,Alpha model: 0.35,Beta model: 0.5, Gamma model: 0.09\n",
            "| \u001b[39m89       \u001b[39m | \u001b[39m-899.8   \u001b[39m | \u001b[39m0.3461   \u001b[39m | \u001b[39m0.5029   \u001b[39m | \u001b[39m0.6758   \u001b[39m | \u001b[39m0.08647  \u001b[39m | \u001b[39m1.043    \u001b[39m | \u001b[39m0.5022   \u001b[39m |\n",
            "0.04502788313109507 0.6684009124529078 1.8979776148604235\n",
            "0.32 0.67 0.53\n",
            " target es: 3167.97920318345,Eror test: add,Trend test: mul,Seasonal test: None,Alpha model: 0.32,Beta model: 0.67, Gamma model: 0.53\n",
            "| \u001b[39m90       \u001b[39m | \u001b[39m-3.168e+0\u001b[39m | \u001b[39m0.3193   \u001b[39m | \u001b[39m0.6655   \u001b[39m | \u001b[39m0.04503  \u001b[39m | \u001b[39m0.5297   \u001b[39m | \u001b[39m1.898    \u001b[39m | \u001b[39m0.6684   \u001b[39m |\n",
            "0.4433312998297343 1.4666100958002102 2.0\n",
            "0.45 0.6 0.99\n",
            " target es: 2248.8647527376015,Eror test: add,Trend test: mul,Seasonal test: None,Alpha model: 0.45,Beta model: 0.6, Gamma model: 0.99\n",
            "| \u001b[39m91       \u001b[39m | \u001b[39m-2.249e+0\u001b[39m | \u001b[39m0.4484   \u001b[39m | \u001b[39m0.6023   \u001b[39m | \u001b[39m0.4433   \u001b[39m | \u001b[39m0.99     \u001b[39m | \u001b[39m2.0      \u001b[39m | \u001b[39m1.467    \u001b[39m |\n",
            "0.14980995392095253 0.238476484892868 1.0337370810976996\n",
            "0.55 0.87 0.85\n",
            " target es: 6703342.124571348,Eror test: add,Trend test: add,Seasonal test: mul,Alpha model: 0.55,Beta model: 0.87, Gamma model: 0.85\n",
            "| \u001b[39m92       \u001b[39m | \u001b[39m-6.703e+0\u001b[39m | \u001b[39m0.5506   \u001b[39m | \u001b[39m0.8716   \u001b[39m | \u001b[39m0.1498   \u001b[39m | \u001b[39m0.8502   \u001b[39m | \u001b[39m1.034    \u001b[39m | \u001b[39m0.2385   \u001b[39m |\n",
            "0.4748416941690917 2.0 0.0\n",
            "0.99 0.67 0.17\n",
            " target es: 128.38334844107072,Eror test: add,Trend test: None,Seasonal test: add,Alpha model: 0.99,Beta model: 0.67, Gamma model: 0.17\n",
            "| \u001b[39m93       \u001b[39m | \u001b[39m-128.4   \u001b[39m | \u001b[39m0.99     \u001b[39m | \u001b[39m0.6728   \u001b[39m | \u001b[39m0.4748   \u001b[39m | \u001b[39m0.1707   \u001b[39m | \u001b[39m0.0      \u001b[39m | \u001b[39m2.0      \u001b[39m |\n",
            "0.18566894256739597 0.4152719806062642 0.9268621785280743\n",
            "0.26 0.9 0.78\n",
            " target es: 675186.9267099896,Eror test: add,Trend test: add,Seasonal test: mul,Alpha model: 0.26,Beta model: 0.9, Gamma model: 0.78\n",
            "| \u001b[39m94       \u001b[39m | \u001b[39m-6.752e+0\u001b[39m | \u001b[39m0.2594   \u001b[39m | \u001b[39m0.8974   \u001b[39m | \u001b[39m0.1857   \u001b[39m | \u001b[39m0.7755   \u001b[39m | \u001b[39m0.9269   \u001b[39m | \u001b[39m0.4153   \u001b[39m |\n",
            "0.3176590556381479 1.593372585063072 1.982444453944176\n",
            "0.32 0.01 0.32\n",
            " target es: 198.46194711056748,Eror test: add,Trend test: None,Seasonal test: None,Alpha model: 0.32,Beta model: 0.01, Gamma model: 0.32\n",
            "| \u001b[39m95       \u001b[39m | \u001b[39m-198.5   \u001b[39m | \u001b[39m0.3197   \u001b[39m | \u001b[39m0.01     \u001b[39m | \u001b[39m0.3177   \u001b[39m | \u001b[39m0.3182   \u001b[39m | \u001b[39m1.982    \u001b[39m | \u001b[39m1.593    \u001b[39m |\n",
            "1.0 1.8011513575861227 0.16715206823516998\n",
            "0.65 0.99 0.44\n",
            " target es: 139.5367905013548,Eror test: mul,Trend test: None,Seasonal test: add,Alpha model: 0.65,Beta model: 0.99, Gamma model: 0.44\n",
            "| \u001b[39m96       \u001b[39m | \u001b[39m-139.5   \u001b[39m | \u001b[39m0.654    \u001b[39m | \u001b[39m0.99     \u001b[39m | \u001b[39m1.0      \u001b[39m | \u001b[39m0.4413   \u001b[39m | \u001b[39m0.1672   \u001b[39m | \u001b[39m1.801    \u001b[39m |\n",
            "0.40396520152696225 0.9876172691647669 1.9425044424019808\n",
            "0.27 0.51 0.4\n",
            " target es: 1990.7346610510092,Eror test: add,Trend test: mul,Seasonal test: None,Alpha model: 0.27,Beta model: 0.51, Gamma model: 0.4\n",
            "| \u001b[39m97       \u001b[39m | \u001b[39m-1.991e+0\u001b[39m | \u001b[39m0.2716   \u001b[39m | \u001b[39m0.5077   \u001b[39m | \u001b[39m0.404    \u001b[39m | \u001b[39m0.3992   \u001b[39m | \u001b[39m1.943    \u001b[39m | \u001b[39m0.9876   \u001b[39m |\n",
            "0.5848211589291117 0.7083122061943429 1.8650347899300272\n",
            "0.72 0.99 0.93\n",
            " target es: 417.3671948531191,Eror test: mul,Trend test: mul,Seasonal test: None,Alpha model: 0.72,Beta model: 0.99, Gamma model: 0.93\n",
            "| \u001b[39m98       \u001b[39m | \u001b[39m-417.4   \u001b[39m | \u001b[39m0.7201   \u001b[39m | \u001b[39m0.99     \u001b[39m | \u001b[39m0.5848   \u001b[39m | \u001b[39m0.9278   \u001b[39m | \u001b[39m1.865    \u001b[39m | \u001b[39m0.7083   \u001b[39m |\n",
            "0.846290881561061 1.954569421647014 0.31093939816931593\n",
            "0.69 0.01 0.47\n",
            " target es: 149.2843988203139,Eror test: mul,Trend test: None,Seasonal test: add,Alpha model: 0.69,Beta model: 0.01, Gamma model: 0.47\n",
            "| \u001b[39m99       \u001b[39m | \u001b[39m-149.3   \u001b[39m | \u001b[39m0.6894   \u001b[39m | \u001b[39m0.01     \u001b[39m | \u001b[39m0.8463   \u001b[39m | \u001b[39m0.466    \u001b[39m | \u001b[39m0.3109   \u001b[39m | \u001b[39m1.955    \u001b[39m |\n",
            "0.25881054000652737 1.6724004874219724 1.0302108400875822\n",
            "0.67 0.2 0.68\n",
            " target es: 207.75427729663858,Eror test: add,Trend test: None,Seasonal test: mul,Alpha model: 0.67,Beta model: 0.2, Gamma model: 0.68\n",
            "| \u001b[39m100      \u001b[39m | \u001b[39m-207.8   \u001b[39m | \u001b[39m0.6704   \u001b[39m | \u001b[39m0.1953   \u001b[39m | \u001b[39m0.2588   \u001b[39m | \u001b[39m0.684    \u001b[39m | \u001b[39m1.03     \u001b[39m | \u001b[39m1.672    \u001b[39m |\n",
            "0.12729817467260263 1.0674807308645513 1.337811300377524\n",
            "0.7 0.68 0.07\n",
            " target es: 464.67702093509956,Eror test: add,Trend test: mul,Seasonal test: mul,Alpha model: 0.7,Beta model: 0.68, Gamma model: 0.07\n",
            "| \u001b[39m101      \u001b[39m | \u001b[39m-464.7   \u001b[39m | \u001b[39m0.6969   \u001b[39m | \u001b[39m0.6756   \u001b[39m | \u001b[39m0.1273   \u001b[39m | \u001b[39m0.06727  \u001b[39m | \u001b[39m1.338    \u001b[39m | \u001b[39m1.067    \u001b[39m |\n",
            "0.06607280009991823 0.6405286299313251 1.7743427740642297\n",
            "0.53 0.38 0.32\n",
            " target es: 915.7410434596763,Eror test: add,Trend test: mul,Seasonal test: None,Alpha model: 0.53,Beta model: 0.38, Gamma model: 0.32\n",
            "| \u001b[39m102      \u001b[39m | \u001b[39m-915.7   \u001b[39m | \u001b[39m0.5335   \u001b[39m | \u001b[39m0.3803   \u001b[39m | \u001b[39m0.06607  \u001b[39m | \u001b[39m0.3182   \u001b[39m | \u001b[39m1.774    \u001b[39m | \u001b[39m0.6405   \u001b[39m |\n",
            "1.0 1.293197727922193 0.07447277975460515\n",
            "0.01 0.01 0.38\n",
            " target es: 176.88057832170983,Eror test: mul,Trend test: mul,Seasonal test: add,Alpha model: 0.01,Beta model: 0.01, Gamma model: 0.38\n",
            "| \u001b[39m103      \u001b[39m | \u001b[39m-176.9   \u001b[39m | \u001b[39m0.01     \u001b[39m | \u001b[39m0.01     \u001b[39m | \u001b[39m1.0      \u001b[39m | \u001b[39m0.384    \u001b[39m | \u001b[39m0.07447  \u001b[39m | \u001b[39m1.293    \u001b[39m |\n",
            "=================================================================================================\n"
          ]
        }
      ],
      "source": [
        "import warnings\n",
        "warnings.filterwarnings(\"ignore\")\n",
        "optimizer.maximize(init_points=3, n_iter=100)"
      ]
    },
    {
      "cell_type": "code",
      "execution_count": 60,
      "metadata": {
        "colab": {
          "base_uri": "https://localhost:8080/"
        },
        "id": "fDfSMJzmI2Pa",
        "outputId": "3ce00e3c-eea2-4b19-a58a-3595c4a3fe06"
      },
      "outputs": [
        {
          "data": {
            "text/plain": [
              "{'target': -113.35701364728104,\n",
              " 'params': {'alpha': 0.9046859195675252,\n",
              "  'beta': 0.8389579445471446,\n",
              "  'error': 0.6462319889775164,\n",
              "  'gamma': 0.36772921438703626,\n",
              "  'seasonal': 0.6050749696888386,\n",
              "  'trend': 1.9286464329978603}}"
            ]
          },
          "execution_count": 60,
          "metadata": {},
          "output_type": "execute_result"
        }
      ],
      "source": [
        "optimizer.max"
      ]
    },
    {
      "cell_type": "markdown",
      "metadata": {
        "id": "Bv55DY92rUoI"
      },
      "source": [
        "## **4. Parcial final**\n",
        "\n",
        "### Instrucciones\n",
        "El examen se compone de dos partes:\n",
        "- La primera corresponde a una parte de selección múltiple con 19 preguntas que se responderán en el salón de clase en 45 minutos. Esa primera parte tiene una calificación de 1 a 5.\n",
        "-La segunda parte corresponde a la parte práctica del examen y tiene también una calificación de 1 a 5.\n",
        "\n",
        "- La nota de este examen parcial corresponderá al promedio ponderado de las dos notas, donde la parte práctica tiene un peso de 40 % y la parte de selección múltiple de 60 %.\n",
        "- Usted tiene hasta el 30 de agosto a las 12:00 pm para enviar los archivos por correo, estos archivos deben tener su nombre.\n",
        "- Sólo se calificaran exámenes en formato pdf. Cualquier otro formato no será tenido en cuenta.\n",
        "- El examen debe estar acompañado de un notebook (ipynb)  que incluya todo los códigos de python que se emplean para obtener sus resultados.\n",
        "- El nombre del archivo debe tener su nombre. No se recibirán archivos en otro formato.\n",
        "- Esta parte del examen es para realizar en casa y debe reflejar el trabajo individual.\n",
        "\n",
        "### El Problema\n",
        "\n",
        "En días recientes trabajamos con una compañía de comestibles que estaba interesada en predecir el comportamiento de las ventas (en unidades) de sus dos productos estrella. Fuimos contratados para generar un modelo que permita pronosticar las ventas del siguiente mes de cada uno de esos dos productos. La base de datos disponible en el archivo Examen.csv tiene la información de cada uno de los productos desde enero de 2008.\n",
        "\n",
        "Su misión es encontrar el mejor modelo para pronosticar cada una de las series. Usted debe entregar un informe escrito de no más de cuatro páginas que presente los resultados al cliente y cuente el proceso para llegar a los pronósticos. Vea las instrucciones para asegurar que entrega los archivos requeridos\n",
        "\n",
        "\n"
      ]
    }
  ],
  "metadata": {
    "colab": {
      "provenance": []
    },
    "kernelspec": {
      "display_name": "Python 3",
      "name": "python3"
    },
    "language_info": {
      "codemirror_mode": {
        "name": "ipython",
        "version": 3
      },
      "file_extension": ".py",
      "mimetype": "text/x-python",
      "name": "python",
      "nbconvert_exporter": "python",
      "pygments_lexer": "ipython3",
      "version": "3.10.14"
    }
  },
  "nbformat": 4,
  "nbformat_minor": 0
}
